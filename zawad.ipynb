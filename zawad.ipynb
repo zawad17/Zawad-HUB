{
  "nbformat": 4,
  "nbformat_minor": 0,
  "metadata": {
    "colab": {
      "provenance": [],
      "authorship_tag": "ABX9TyPiNXQqS7BXhoSxo8OhS4KH",
      "include_colab_link": true
    },
    "kernelspec": {
      "name": "python3",
      "display_name": "Python 3"
    },
    "language_info": {
      "name": "python"
    }
  },
  "cells": [
    {
      "cell_type": "markdown",
      "metadata": {
        "id": "view-in-github",
        "colab_type": "text"
      },
      "source": [
        "<a href=\"https://colab.research.google.com/github/zawad17/Zawad-HUB/blob/main/zawad.ipynb\" target=\"_parent\"><img src=\"https://colab.research.google.com/assets/colab-badge.svg\" alt=\"Open In Colab\"/></a>"
      ]
    },
    {
      "cell_type": "code",
      "source": [
        "print(\"Hi,Zawad\")"
      ],
      "metadata": {
        "id": "Xg6BXsjRvOki",
        "colab": {
          "base_uri": "https://localhost:8080/"
        },
        "outputId": "3531b6d9-cf52-4180-cd37-abfceb6e238f"
      },
      "execution_count": 1,
      "outputs": [
        {
          "output_type": "stream",
          "name": "stdout",
          "text": [
            "Hi,Zawad\n"
          ]
        }
      ]
    },
    {
      "cell_type": "code",
      "source": [],
      "metadata": {
        "id": "DM44xwVSvSTG"
      },
      "execution_count": null,
      "outputs": []
    }
  ]
}